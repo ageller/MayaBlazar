{
 "cells": [
  {
   "cell_type": "markdown",
   "metadata": {},
   "source": [
    "### Imports and function definitions"
   ]
  },
  {
   "cell_type": "code",
   "execution_count": 1,
   "metadata": {},
   "outputs": [],
   "source": [
    "#This directory contains all the data needed for the module. It should be in the same directory as the notebook\n",
    "dataFolder = \"data\"\n",
    "\n",
    "\n",
    "import sys, os, shutil, errno, string, urllib\n",
    "\n",
    "\n",
    "sys.path.append(( os.path.abspath( os.path.join(os.path.realpath(\"__file__\"),  os.pardir, os.pardir) )))\n",
    "print(sys.path)\n",
    "import uvmodlib.v1 as uvmod"
   ]
  },
  {
   "cell_type": "markdown",
   "metadata": {},
   "source": [
    "### USES Conf Templates"
   ]
  },
  {
   "cell_type": "code",
   "execution_count": 2,
   "metadata": {},
   "outputs": [],
   "source": [
    "BlazarTemplate = \"\"\"mesh\n",
    "{  \n",
    "    data  blazar ./modules/$folderName/BlazarSolidModel_v2.obj\n",
    "    \n",
    "#    cullRadius $cr\n",
    "    glslVersion 330\n",
    "    enableTypeCheck true\n",
    "    \n",
    "#    propertyCollection \n",
    "#    {        \n",
    "#        __objectName__\n",
    "#        {           \n",
    "#\n",
    "#        }\n",
    "#    }\n",
    "\n",
    "    pass \n",
    "    {\n",
    "        \n",
    "        useDataObject blazar\n",
    "        \n",
    "        shader\n",
    "        {\n",
    "            type defaultMeshShader\n",
    "            {\n",
    "                mtrl blackHoleMaterial\n",
    "                vertexShader   ./modules/$folderName/meshShader.vs\n",
    "                geometryShader  /modules/$folderName/meshShader.gs\n",
    "                fragmentShader ./modules/$folderName/meshShader.fs\n",
    "#                \n",
    "#                StateManagerVar __objectName__.simUseTime simUseTime\n",
    "#\n",
    "#                texture fit1 ./modules/$folderName/GRACEfit_1.png\n",
    "#                {\n",
    "#                    colorspace linear\n",
    "#                }\n",
    "#\n",
    "#                glState\n",
    "#                {\n",
    "#                    UV_CULL_FACE_ENABLE false\n",
    "#                    UV_BLEND_ENABLE true\n",
    "#                    UV_BLEND_FUNC GL_SRC_ALPHA GL_ONE_MINUS_SRC_ALPHA\n",
    "#                }\n",
    "            }\n",
    "\n",
    "            type defaultMeshShader\n",
    "            {\n",
    "                mtrl accretionDiskMaterial\n",
    "                vertexShader   ./modules/$folderName/meshShader.vs\n",
    "                geometryShader  /modules/$folderName/meshShader.gs\n",
    "                fragmentShader ./modules/$folderName/meshShader.fs\n",
    "            }\n",
    "\n",
    "            type defaultMeshShader\n",
    "            {\n",
    "\n",
    "                mtrl exteriorDiskMaterial\n",
    "                vertexShader   ./modules/$folderName/meshShader.vs\n",
    "                geometryShader  /modules/$folderName/meshShader.gs\n",
    "                fragmentShader ./modules/$folderName/meshShader.fs\n",
    "            }\n",
    "\n",
    "            type defaultMeshShader\n",
    "            {\n",
    "                mtrl cloudMaterial\n",
    "                vertexShader   ./modules/$folderName/meshShader.vs\n",
    "                geometryShader  /modules/$folderName/meshShader.gs\n",
    "                fragmentShader ./modules/$folderName/meshShader.fs\n",
    "            }\n",
    "\n",
    "            type defaultMeshShader\n",
    "            {\n",
    "                mtrl JetMaterial\n",
    "                vertexShader   ./modules/$folderName/meshShader.vs\n",
    "                geometryShader  /modules/$folderName/meshShader.gs\n",
    "                fragmentShader ./modules/$folderName/meshShader.fs\n",
    "            }\n",
    "        }\n",
    "            \n",
    "    }\n",
    "    \n",
    "\n",
    "    \n",
    "    \n",
    "}\"\"\""
   ]
  },
  {
   "cell_type": "markdown",
   "metadata": {},
   "source": [
    "### Blazar Class"
   ]
  },
  {
   "cell_type": "code",
   "execution_count": 8,
   "metadata": {},
   "outputs": [],
   "source": [
    "class BlazarClass():\n",
    "    def __init__(self, object):\n",
    "        self.object = object\n",
    "        uvmod.Utility.ensurerelativepathexsists(\"BlazarSolidModel_v2.obj\",dataFolder)\n",
    "        uvmod.Utility.ensurerelativepathexsists(\"meshShader.vs\",dataFolder)\n",
    "        uvmod.Utility.ensurerelativepathexsists(\"meshShader.fs\",dataFolder)        \n",
    "        uvmod.Utility.ensurerelativepathexsists(\"meshShader.gs\",dataFolder)        \n",
    "        self.cr = 1000\n",
    "    def generatemod(self):\n",
    "        self.object.setgeometry(self.object.name+\"Mesh.usesconf\")\n",
    "        return self.object.generatemod()\n",
    "    def generatefiles(self, absOutDir, relOutDir):\n",
    "        fileName = self.object.name+\"Mesh.usesconf\"\n",
    "        s = string.Template(BlazarTemplate)\n",
    "        f = open(absOutDir+\"\\\\\"+fileName, 'w')\n",
    "        if f:\n",
    "            f.write(s.substitute(folderName = relOutDir, cr = self.cr))\n",
    "            f.close()\n",
    "        uvmod.Utility.copyfoldercontents(os.getcwd()+\"\\\\\"+dataFolder, absOutDir)"
   ]
  },
  {
   "cell_type": "markdown",
   "metadata": {},
   "source": [
    "### Object Instantiation"
   ]
  },
  {
   "cell_type": "code",
   "execution_count": 9,
   "metadata": {},
   "outputs": [],
   "source": [
    "Blazar = BlazarClass(uvmod.OrbitalObject())\n",
    "generator = uvmod.Generator()\n",
    "scene = uvmod.Scene()\n",
    "modinfo = uvmod.ModuleInformation()"
   ]
  },
  {
   "cell_type": "markdown",
   "metadata": {},
   "source": [
    "### Specify Settings and generate the module"
   ]
  },
  {
   "cell_type": "code",
   "execution_count": 10,
   "metadata": {},
   "outputs": [
    {
     "name": "stdout",
     "output_type": "stream",
     "text": [
      "Unable to connect to Uniview\n"
     ]
    }
   ],
   "source": [
    "Blazar.object.setcameraradius(10)\n",
    "Blazar.object.setcoord(\"SolarSystem\")\n",
    "Blazar.object.setname(\"Blazar\")\n",
    "Blazar.object.setguiname(\"/KavliLecture/Larson/Blazar\")\n",
    "Blazar.object.settargetradius(2000)\n",
    "Blazar.object.setscalefactor(660.0)\n",
    "Blazar.object.showatstartup(False)\n",
    "\n",
    "#Blazar.cr = 10000\n",
    "\n",
    "\n",
    "\n",
    "modinfo.setname(\"Blazar Model\")\n",
    "modinfo.setauthor(\"Aaron Geller<sup>1</sup> and Shane Larson<sup>2</sup><br />(1)Adler Planetarium,<br />(2)Northwestern University\")\n",
    "modinfo.cleardependencies()\n",
    "modinfo.setdesc(\"A 3D model of a Blazar to accompany the IceCube discovery.\")\n",
    "modinfo.setversion(\"1.0\")\n",
    "\n",
    "generator.generate(\"Blazar\",[],[Blazar],modinfo)\n",
    "uvmod.Utility.senduvcommand(Blazar.object.name+\".reload;\")"
   ]
  },
  {
   "cell_type": "markdown",
   "metadata": {},
   "source": [
    "## To reload"
   ]
  },
  {
   "cell_type": "code",
   "execution_count": 6,
   "metadata": {},
   "outputs": [],
   "source": [
    "from config import Settings"
   ]
  },
  {
   "cell_type": "code",
   "execution_count": 7,
   "metadata": {},
   "outputs": [
    {
     "name": "stdout",
     "output_type": "stream",
     "text": [
      "Unable to connect to Uniview\n"
     ]
    }
   ],
   "source": [
    "uvmod.Utility.copyfoldercontents(os.getcwd()+\"\\\\\"+dataFolder, Settings.uvcustommodulelocation+'\\\\'+Blazar.object.name)\n",
    "uvmod.Utility.senduvcommand(Blazar.object.name+\".reload;\")"
   ]
  },
  {
   "cell_type": "code",
   "execution_count": null,
   "metadata": {},
   "outputs": [],
   "source": []
  }
 ],
 "metadata": {
  "anaconda-cloud": {},
  "kernelspec": {
   "display_name": "Python 3",
   "language": "python",
   "name": "python3"
  },
  "language_info": {
   "codemirror_mode": {
    "name": "ipython",
    "version": 3
   },
   "file_extension": ".py",
   "mimetype": "text/x-python",
   "name": "python",
   "nbconvert_exporter": "python",
   "pygments_lexer": "ipython3",
   "version": "3.6.4"
  }
 },
 "nbformat": 4,
 "nbformat_minor": 1
}
